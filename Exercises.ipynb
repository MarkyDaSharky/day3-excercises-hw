{
 "cells": [
  {
   "cell_type": "markdown",
   "metadata": {},
   "source": [
    "### Exercise 1"
   ]
  },
  {
   "cell_type": "markdown",
   "metadata": {},
   "source": [
    "Given an array of positive integers `nums`, return a list of all of the negative integers.<br>\n",
    "Ex. 1<br>\n",
    "nums = [1, 3, 5, 7, 8]<br>\n",
    "Expected Output: [-1, -3, -5, -7, -8]<br>\n",
    "\n",
    "Ex. 2<br>\n",
    "nums = [100, 534, 32, 15, 77, 222, 788, 345, 75645, 22]<br>\n",
    "Expected Output: [-100, -534, -32, -15, -77, -222, -788, -345, -75645, -22]<br>"
   ]
  },
  {
   "cell_type": "code",
   "execution_count": 15,
   "metadata": {},
   "outputs": [
    {
     "name": "stdout",
     "output_type": "stream",
     "text": [
      "[-1, -3, -5, -7, -8]\n",
      "[-100, -534, -32, -15, -77, -222, -788, -345, -75645, -22]\n"
     ]
    }
   ],
   "source": [
    "# Ex. 1\n",
    "nums1 = [1, 3, 5, 7, 8]\n",
    "# Expected Output: [-1, -3, -5, -7, -8]\n",
    "\n",
    "# Ex. 2\n",
    "nums2 = [100, 534, 32, 15, 77, 222, 788, 345, 75645, 22]\n",
    "# Expected Output: [-100, -534, -32, -15, -77, -222, -788, -345, -75645, -22]\n",
    "\n",
    "\n",
    "\n",
    "\n",
    "def negative_list(num_list):\n",
    "    \"\"\"Normal list version of Given an array of positive integers nums, return a list of all of the negative integers.\"\"\"\n",
    "    neg_list = []\n",
    "    for num in num_list:\n",
    "        if num >= 0:\n",
    "            neg_list.append(-num)\n",
    "    return neg_list\n",
    "        \n",
    "    \n",
    "# def negative_comprehension(num_list):\n",
    "#     \"\"\"Comprehension version of Given an array of positive integers nums, return a list of all of the negative integers.\"\"\"\n",
    "#     neg_list =[-num for num in num_list if num >= 0]\n",
    "    \n",
    "# Example1\n",
    "# Expected Output: [-1, -3, -5, -7, -8]\n",
    "print(negative_list(nums1))\n",
    "\n",
    "\n",
    "\n",
    "#Example2\n",
    "# Expected Output: [-100, -534, -32, -15, -77, -222, -788, -345, -75645, -22]\n",
    "print(negative_list(nums2))\n",
    "\n",
    "\n",
    "\n",
    "    "
   ]
  },
  {
   "cell_type": "markdown",
   "metadata": {},
   "source": [
    "### Exercise 2"
   ]
  },
  {
   "cell_type": "markdown",
   "metadata": {},
   "source": [
    "Given a string, return a list of all of the digits in the string.<br>\n",
    "Ex. 1 <br>\n",
    "address = \"123 Real Street, Apt. 2, Springfield, OR 43498\"<br>\n",
    "Expected Output: ['1', '2', '3', '2', '4', '3', '4', '9', '8']<br>\n",
    "\n",
    "Ex. 2 <br>\n",
    "sentence = \"My phone number is (555) 555-4321\"<br>\n",
    "Expected Output: ['5', '5', '5', '5', '5', '5', '4', '3', '2', '1']<br>"
   ]
  },
  {
   "cell_type": "code",
   "execution_count": 35,
   "metadata": {},
   "outputs": [
    {
     "name": "stdout",
     "output_type": "stream",
     "text": [
      "['1', '2', '3', '2', '4', '3', '4', '9', '8']\n",
      "['5', '5', '5', '5', '5', '5', '4', '3', '2', '1']\n"
     ]
    }
   ],
   "source": [
    "# Hint: Look at the string methods! -- help(str)\n",
    "\n",
    "# help(str)\n",
    "\n",
    "address = \"123 Real Street, Apt. 2, Springfield, OR 43498\"\n",
    "\n",
    "sentence = \"My phone number is (555) 555-4321\"\n",
    "\n",
    "\n",
    "#NOT LIST COMPREHENSION        \n",
    "def string_return_numbers(string_with_numbers):\n",
    "    numbers_in_string = []\n",
    "    for numbers in string_with_numbers:\n",
    "        if numbers.isdigit() > 0:\n",
    "            numbers_in_string.append(numbers)\n",
    "    return numbers_in_string\n",
    "            \n",
    "#LIST COMPREHENSION    \n",
    "# def string_return_numbers(string_with_numbers):\n",
    "#     numbers_in_string = [num for num in string_with_numbers if num.isdigit() > 0]\n",
    "#     return numbers_in_string\n",
    "\n",
    "print(string_return_numbers(address))\n",
    "\n",
    "print(string_return_numbers(sentence))\n",
    "        "
   ]
  },
  {
   "cell_type": "markdown",
   "metadata": {},
   "source": [
    "### Exercise 3"
   ]
  },
  {
   "cell_type": "markdown",
   "metadata": {},
   "source": [
    "Given a string `digits`, return a **string** of the digits + 1<br>\n",
    "\n",
    "Ex. 1<br>\n",
    "digits = '123'<br>\n",
    "Expected Output: '124'<br>\n",
    "\n",
    "Ex. 2<br>\n",
    "digits = '99'<br>\n",
    "Expected Output: '100'<br>"
   ]
  },
  {
   "cell_type": "code",
   "execution_count": 36,
   "metadata": {},
   "outputs": [
    {
     "name": "stdout",
     "output_type": "stream",
     "text": [
      "124\n",
      "100\n"
     ]
    }
   ],
   "source": [
    "#in any string of digits we and to change the string into a interger using int(\"variable\")\n",
    "\n",
    "# Ex. 1\n",
    "digits = '123'\n",
    "# Expected Output: '124'\n",
    "\n",
    "# Ex. 2\n",
    "digits = '99'\n",
    "# Expected Output: '100'\n",
    "\n",
    "def string_num_add_1(string):\n",
    "    string = 1 + int(string)\n",
    "    return str(string)\n",
    "\n",
    "# Example 1\n",
    "\n",
    "print(string_num_add_1('123'))\n",
    "\n",
    "# Example 2\n",
    "\n",
    "print(string_num_add_1('99'))\n",
    "\n"
   ]
  }
 ],
 "metadata": {
  "kernelspec": {
   "display_name": "Python 3 (ipykernel)",
   "language": "python",
   "name": "python3"
  },
  "language_info": {
   "codemirror_mode": {
    "name": "ipython",
    "version": 3
   },
   "file_extension": ".py",
   "mimetype": "text/x-python",
   "name": "python",
   "nbconvert_exporter": "python",
   "pygments_lexer": "ipython3",
   "version": "3.9.7"
  }
 },
 "nbformat": 4,
 "nbformat_minor": 4
}
